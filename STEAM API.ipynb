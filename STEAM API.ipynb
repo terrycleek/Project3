{
 "cells": [
  {
   "cell_type": "code",
   "execution_count": null,
   "id": "192cf9c1",
   "metadata": {},
   "outputs": [],
   "source": [
    "# Import Dependencies\n",
    "    \n",
    "!pip install requests\n",
    "\n",
    "import requests\n",
    "import json\n"
   ]
  },
  {
   "cell_type": "code",
   "execution_count": null,
   "id": "eebca5e7",
   "metadata": {},
   "outputs": [],
   "source": [
    "# API Request\n",
    "\n",
    "# WebAPI key\n",
    "webapi_key = 'F90BF8896C9A490D48984015C19C4EF4'\n",
    "\n",
    "# Steam id\n",
    "steam_id = '76561199094665890'\n",
    "\n",
    "\n",
    "# API endpoint\n",
    "api_endpoint = f'https://steamapi.xpaw.me/v1/user/{steam_id}?access_token={access_token}'\n",
    "\n",
    "# Output format in request headers\n",
    "headers = {'Accept': 'application/json'}"
   ]
  },
  {
   "cell_type": "code",
   "execution_count": null,
   "id": "3c84f99b",
   "metadata": {},
   "outputs": [],
   "source": [
    "# API request with the specified headers\n",
    "response = requests.get(api_endpoint, headers=headers)"
   ]
  },
  {
   "cell_type": "code",
   "execution_count": null,
   "id": "d33cb388",
   "metadata": {},
   "outputs": [],
   "source": [
    "# Check if the request was successful (HTTP status code 200)\n",
    "if response.status_code == 200:\n",
    "    # Parse the JSON response\n",
    "    data = json.loads(response.text)\n",
    "    # Process and work with the user data as needed\n",
    "    print(data)\n",
    "else:\n",
    "    # Handle errors\n",
    "    print(f\"API request failed with status code {response.status_code}\")"
   ]
  },
  {
   "cell_type": "code",
   "execution_count": 1,
   "id": "939d5a57",
   "metadata": {},
   "outputs": [
    {
     "name": "stdout",
     "output_type": "stream",
     "text": [
      "API request failed with status code 404\n"
     ]
    }
   ],
   "source": [
    "import requests\n",
    "import json\n",
    "\n",
    "# WebAPI key and Steam ID\n",
    "webapi_key = 'F90BF8896C9A490D48984015C19C4EF4'\n",
    "steam_id = '76561199094665890'\n",
    "\n",
    "#  API endpoint \n",
    "api_endpoint = f'https://steamapi.xpaw.me/v1/user?{steam_id}?key={webapi_key}'\n",
    "\n",
    "# Headers\n",
    "headers = {'Accept': 'application/json'}\n",
    "\n",
    "# API Request\n",
    "response = requests.get(api_endpoint, headers=headers)\n",
    "\n",
    "# Check if the request was successful (HTTP status code 200)\n",
    "if response.status_code == 200:\n",
    "    # Parse the JSON response\n",
    "    data = json.loads(response.text)\n",
    "    # Process and work with the user data as needed\n",
    "    print(data)\n",
    "else:\n",
    "    # Handle errors\n",
    "    print(f\"API request failed with status code {response.status_code}\")"
   ]
  },
  {
   "cell_type": "code",
   "execution_count": null,
   "id": "206c17e3",
   "metadata": {},
   "outputs": [],
   "source": []
  }
 ],
 "metadata": {
  "kernelspec": {
   "display_name": "Python 3 (ipykernel)",
   "language": "python",
   "name": "python3"
  },
  "language_info": {
   "codemirror_mode": {
    "name": "ipython",
    "version": 3
   },
   "file_extension": ".py",
   "mimetype": "text/x-python",
   "name": "python",
   "nbconvert_exporter": "python",
   "pygments_lexer": "ipython3",
   "version": "3.10.13"
  }
 },
 "nbformat": 4,
 "nbformat_minor": 5
}
