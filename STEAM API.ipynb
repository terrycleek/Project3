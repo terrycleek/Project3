{
 "cells": [
  {
   "cell_type": "code",
   "execution_count": 7,
   "id": "57f5c51d",
   "metadata": {},
   "outputs": [
    {
     "name": "stdout",
     "output_type": "stream",
     "text": [
      "Requirement already satisfied: requests in /Users/terrycleek/anaconda3/lib/python3.10/site-packages (2.28.1)\n",
      "Requirement already satisfied: charset-normalizer<3,>=2 in /Users/terrycleek/anaconda3/lib/python3.10/site-packages (from requests) (2.0.4)\n",
      "Requirement already satisfied: urllib3<1.27,>=1.21.1 in /Users/terrycleek/anaconda3/lib/python3.10/site-packages (from requests) (1.26.14)\n",
      "Requirement already satisfied: certifi>=2017.4.17 in /Users/terrycleek/anaconda3/lib/python3.10/site-packages (from requests) (2022.6.15)\n",
      "Requirement already satisfied: idna<4,>=2.5 in /Users/terrycleek/anaconda3/lib/python3.10/site-packages (from requests) (3.4)\n"
     ]
    }
   ],
   "source": [
    "# Import Dependencies\n",
    "    \n",
    "!pip install requests\n",
    "\n",
    "import requests\n",
    "import json\n"
   ]
  },
  {
   "cell_type": "code",
   "execution_count": 8,
   "id": "d7f342c9",
   "metadata": {},
   "outputs": [],
   "source": [
    "# API Request\n",
    "\n",
    "# WebAPI key\n",
    "webapi_key = 'DEAB05F200631501DB2215951E19BFC6'\n",
    "\n",
    "# Steam id\n",
    "steam_id = '76561199094665890'\n",
    "\n",
    "# Access token\n",
    "access_token = 'd7c520560a0b4f7a685459b839f6acbf'\n",
    "\n",
    "# API endpoint\n",
    "api_endpoint = f'https://steamapi.xpaw.me/v1/user/{steam_id}?access_token={access_token}'\n",
    "\n",
    "# Output format in request headers\n",
    "headers = {'Accept': 'application/json'}"
   ]
  },
  {
   "cell_type": "code",
   "execution_count": 9,
   "id": "da4764ec",
   "metadata": {},
   "outputs": [],
   "source": [
    "# API request with the specified headers\n",
    "response = requests.get(api_endpoint, headers=headers)"
   ]
  },
  {
   "cell_type": "code",
   "execution_count": 10,
   "id": "4c3f4ea8",
   "metadata": {},
   "outputs": [
    {
     "name": "stdout",
     "output_type": "stream",
     "text": [
      "API request failed with status code 404\n"
     ]
    }
   ],
   "source": [
    "# Check if the request was successful (HTTP status code 200)\n",
    "if response.status_code == 200:\n",
    "    # Parse the JSON response\n",
    "    data = json.loads(response.text)\n",
    "    # Process and work with the user data as needed\n",
    "    print(data)\n",
    "else:\n",
    "    # Handle errors\n",
    "    print(f\"API request failed with status code {response.status_code}\")"
   ]
  },
  {
   "cell_type": "code",
   "execution_count": 11,
   "id": "5eef5eb0",
   "metadata": {},
   "outputs": [
    {
     "name": "stdout",
     "output_type": "stream",
     "text": [
      "API request failed with status code 404\n"
     ]
    }
   ],
   "source": [
    "import requests\n",
    "import json\n",
    "\n",
    "# Define your Steam ID, Web API key, and access token\n",
    "steam_id = '76561199094665890'\n",
    "webapi_key = 'DEAB05F200631501DB2215951E19BFC6'\n",
    "access_token = 'd7c520560a0b4f7a685459b839f6acbf'\n",
    "\n",
    "# Construct the API endpoint\n",
    "api_endpoint = f'https://steamapi.xpaw.me/v1/user/{steam_id}?access_token={access_token}'\n",
    "\n",
    "# Define the headers with your Web API key\n",
    "headers = {\n",
    "    'Accept': 'application/json',\n",
    "    'X-Api-Key': webapi_key\n",
    "}\n",
    "\n",
    "# Make the API request\n",
    "response = requests.get(api_endpoint, headers=headers)\n",
    "\n",
    "# Check the response\n",
    "if response.status_code == 200:\n",
    "    data = response.json()\n",
    "    print(data)\n",
    "else:\n",
    "    print(f\"API request failed with status code {response.status_code}\")\n"
   ]
  },
  {
   "cell_type": "code",
   "execution_count": null,
   "id": "1b353930",
   "metadata": {},
   "outputs": [],
   "source": []
  }
 ],
 "metadata": {
  "kernelspec": {
   "display_name": "Python 3 (ipykernel)",
   "language": "python",
   "name": "python3"
  },
  "language_info": {
   "codemirror_mode": {
    "name": "ipython",
    "version": 3
   },
   "file_extension": ".py",
   "mimetype": "text/x-python",
   "name": "python",
   "nbconvert_exporter": "python",
   "pygments_lexer": "ipython3",
   "version": "3.10.9"
  }
 },
 "nbformat": 4,
 "nbformat_minor": 5
}
