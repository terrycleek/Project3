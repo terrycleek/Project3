{
 "cells": [
  {
   "cell_type": "code",
   "execution_count": null,
   "id": "f989dfb8",
   "metadata": {},
   "outputs": [],
   "source": [
    "# Import Dependencies\n",
    "    \n",
    "!pip install requests\n",
    "\n",
    "import requests\n",
    "import json\n"
   ]
  },
  {
   "cell_type": "code",
   "execution_count": null,
   "id": "59f182fc",
   "metadata": {},
   "outputs": [],
   "source": [
    "# Make API Request\n",
    "\n",
    "\n",
    "# Define your WebAPI key\n",
    "webapi_key = 'DEAB05F200631501DB2215951E19BFC6'\n",
    "\n",
    "# Access token\n",
    "access_token = 'd7c520560a0b4f7a685459b839f6acbf'\n",
    "\n",
    "# Define the API endpoint\n",
    "api_endpoint = 'YOUR_ENDPOINT'"
   ]
  }
 ],
 "metadata": {
  "kernelspec": {
   "display_name": "Python 3 (ipykernel)",
   "language": "python",
   "name": "python3"
  },
  "language_info": {
   "codemirror_mode": {
    "name": "ipython",
    "version": 3
   },
   "file_extension": ".py",
   "mimetype": "text/x-python",
   "name": "python",
   "nbconvert_exporter": "python",
   "pygments_lexer": "ipython3",
   "version": "3.10.9"
  }
 },
 "nbformat": 4,
 "nbformat_minor": 5
}
